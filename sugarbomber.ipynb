{
  "nbformat": 4,
  "nbformat_minor": 0,
  "metadata": {
    "colab": {
      "name": "sugarbomber.ipynb",
      "provenance": [],
      "authorship_tag": "ABX9TyMgcOw51AqzIfv1Pf3pxUgQ",
      "include_colab_link": true
    },
    "kernelspec": {
      "name": "python3",
      "display_name": "Python 3"
    },
    "language_info": {
      "name": "python"
    }
  },
  "cells": [
    {
      "cell_type": "markdown",
      "metadata": {
        "id": "view-in-github",
        "colab_type": "text"
      },
      "source": [
        "<a href=\"https://colab.research.google.com/github/marselshow/sugarbomber/blob/main/sugarbomber.ipynb\" target=\"_parent\"><img src=\"https://colab.research.google.com/assets/colab-badge.svg\" alt=\"Open In Colab\"/></a>"
      ]
    },
    {
      "cell_type": "code",
      "execution_count": null,
      "metadata": {
        "id": "UtQVaAYbJFyI"
      },
      "outputs": [],
      "source": [
        "!git clone https://github.com/marselshow/sugarbomber/"
      ]
    },
    {
      "cell_type": "code",
      "source": [
        "cd sugarbomber/"
      ],
      "metadata": {
        "id": "lR3jiBFAKqft"
      },
      "execution_count": null,
      "outputs": []
    },
    {
      "cell_type": "code",
      "source": [
        "!pip install -r requirements.txt"
      ],
      "metadata": {
        "id": "H88KEwYcJI06"
      },
      "execution_count": null,
      "outputs": []
    },
    {
      "cell_type": "code",
      "source": [
        "!python spammer.py"
      ],
      "metadata": {
        "id": "i8ajluVkJLzI"
      },
      "execution_count": null,
      "outputs": []
    }
  ]
}